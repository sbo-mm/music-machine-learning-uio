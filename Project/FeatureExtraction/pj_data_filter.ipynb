{
 "cells": [
  {
   "cell_type": "code",
   "execution_count": null,
   "id": "b5ff9f68",
   "metadata": {},
   "outputs": [],
   "source": [
    "# Utility\n",
    "import re\n",
    "import numpy as np\n",
    "#import pandas as pd\n",
    "\n",
    "# OS I/O\n",
    "import requests\n",
    "import inspect\n",
    "import sys\n",
    "import os\n",
    "\n",
    "# Image Processing\n",
    "import cv2\n",
    "\n",
    "# Custom Utils\n",
    "#abspathdir = os.path.abspath(inspect.getfile(inspect.currentframe()))\n",
    "#print()\n",
    "#currentdir = os.path.dirname(abspathdir)\n",
    "#parentdir  = os.path.dirname(currentdir)\n",
    "#print(parentdir)\n",
    "sys.path.insert(0, os.path.abspath(os.path.join('..'))) \n",
    "from Utils._fe_utils import DatasetManager, get_id, motiongram, extract_subclip, convert_to_avi"
   ]
  },
  {
   "cell_type": "code",
   "execution_count": null,
   "id": "2b15f61d",
   "metadata": {},
   "outputs": [],
   "source": [
    "relpath  = parentdir + '/Data/'\n",
    "videos_filename = 'refined_2M_all_video_url.csv'\n",
    "audios_filename = 'all_music_mp3_url.csv'\n",
    "\n",
    "audio_urls = []\n",
    "music_ids = []\n",
    "all_audio_data = pd.read_csv(relpath + audios_filename, header=None)\n",
    "for url in all_audio_data[0]:\n",
    "    audio_urls.append(url)\n",
    "    ri = url.rindex('/') + 1\n",
    "    of, fex = os.path.splitext(url[ri:])\n",
    "    music_ids.append(of)\n",
    "\n",
    "all_video_data = pd.read_csv(relpath + videos_filename, header=None)\n",
    "data_mask = all_video_data[0].str.contains(\"c02\")\n",
    "\n",
    "video_urls = []\n",
    "for idx, url in enumerate(all_video_data[data_mask][0]):\n",
    "    video_urls.append(url)\n",
    "\n",
    "video_urls_by_music_id = []\n",
    "for id_ in music_ids:\n",
    "    trim = list(filter(lambda k: id_ in k, video_urls))\n",
    "    video_urls_by_music_id.append(trim)\n",
    "\n",
    "print(len(video_urls))"
   ]
  },
  {
   "cell_type": "code",
   "execution_count": null,
   "id": "c5c7d401",
   "metadata": {},
   "outputs": [],
   "source": [
    "temp_dir = currentdir + '/tmpdata'\n",
    "db_dir   = currentdir + '/tmpdata'\n",
    "dbmanager = DatasetManager(temp_dir, db_dir)"
   ]
  },
  {
   "cell_type": "code",
   "execution_count": null,
   "id": "6386d03b",
   "metadata": {},
   "outputs": [],
   "source": [
    "import joblib\n",
    "dbname = \"/mgdb.pkl\"\n",
    "db = joblib.load(db_dir + dbname)\n",
    "#print(db[\"Video\"].keys())\n",
    "print(len(db[\"Video\"].keys()))\n",
    "print(len(db[\"Audio\"].keys()))\n",
    "\n",
    "#dd = get_id(\"gJB_sGR_c01_d07_d08_d09_mJB0_ch01\")\n",
    "\n",
    "#print(db[\"Video\"][dd])\n",
    "\n",
    "#df = pd.DataFrame(db)\n",
    "#print(df)"
   ]
  },
  {
   "cell_type": "code",
   "execution_count": null,
   "id": "c0913ebe",
   "metadata": {},
   "outputs": [],
   "source": [
    "print(db[\"Audio\"])"
   ]
  },
  {
   "cell_type": "code",
   "execution_count": null,
   "id": "dae37ba2",
   "metadata": {},
   "outputs": [],
   "source": [
    "audio_download_params = {\n",
    "    \"samplerate\": 22050,\n",
    "    \"start_t\": 0, \"end_t\": 4\n",
    "}\n",
    "\n",
    "dbmanager.download_and_dump_audio(audio_urls, **audio_download_params)"
   ]
  },
  {
   "cell_type": "code",
   "execution_count": null,
   "id": "15b2f1ac",
   "metadata": {},
   "outputs": [],
   "source": [
    "video_download_params = {\n",
    "    \"color\": False,\n",
    "    \"sizex\": 320, \"sizey\": 240,\n",
    "    \"start_t\": 0, \"end_t\": 4\n",
    "}\n",
    "\n",
    "dbmanager.download_and_dump_videos(video_urls, **video_download_params)"
   ]
  },
  {
   "cell_type": "code",
   "execution_count": null,
   "id": "dba71aad",
   "metadata": {},
   "outputs": [],
   "source": [
    "'''\n",
    "from Utils._fe_utils import motiongram, extract_subclip, convert_to_avi\n",
    "#test_url = './boomwhackers.mp4'\n",
    "#boom_path = extract_subclip(test_url, 10, 25, './boomwhackers_15sec.mp4')\n",
    "#boom_path = convert_to_avi(boom_path)\n",
    "boom_path = './boomwhackers_15sec.avi'\n",
    "mgx, mgy = motiongram(boom_path,\n",
    "    size = (640, 480),\n",
    "    color = True\n",
    ")\n",
    "print(mgx.shape, mgy.shape)\n",
    "'''\n",
    "li = list(db[\"Video\"].keys())\n",
    "print(li[-1:-10:-1])"
   ]
  },
  {
   "cell_type": "code",
   "execution_count": null,
   "id": "f0714b8b",
   "metadata": {},
   "outputs": [],
   "source": [
    "\n",
    "kv = li[1800]\n",
    "#print(db[\"Video\"][kv])\n",
    "#db = runner.get_db()[k]\n",
    "mgx = db[\"Video\"][kv][\"MotiongramX\"]\n",
    "mgy = db[\"Video\"][kv][\"MotiongramY\"]\n",
    "\n",
    "print(mgx.shape, mgy.shape)\n",
    "\n",
    "import matplotlib.pyplot as plt\n",
    "plt.figure(figsize=(10, 10))\n",
    "plt.imshow(mgy)\n",
    "plt.show()\n"
   ]
  },
  {
   "cell_type": "code",
   "execution_count": null,
   "id": "a5836278",
   "metadata": {},
   "outputs": [],
   "source": [
    "k = get_id(db[\"Video\"][kv]['MetaInfo']['MusicID'])#list(db[\"Audio\"].keys())[2]\n",
    "print(k)\n",
    "\n",
    "entry = db[\"Audio\"][k]\n",
    "print(entry)\n",
    "print(list(entry.keys()))\n",
    "\n",
    "import librosa\n",
    "import librosa.display\n",
    "import matplotlib.pyplot as plt\n",
    "\n",
    "\n",
    "\n",
    "fig, ax = plt.subplots(nrows=3, ncols=1, sharex=True, figsize=(10, 15))\n",
    "\n",
    "y = entry[\"RawAudio\"]\n",
    "sr = entry[\"SampleRate\"]\n",
    "\n",
    "librosa.display.waveshow(y, sr=sr, ax=ax[0])\n",
    "\n",
    "D = librosa.amplitude_to_db(np.abs(librosa.stft(y)), ref=np.max)\n",
    "img = librosa.display.specshow(D, y_axis='linear', x_axis='time',\n",
    "                               sr=sr, ax=ax[1])\n",
    "ax[1].set(title='Linear-frequency power spectrogram')\n",
    "ax[1].label_outer()\n",
    "\n",
    "hop_length = 1024\n",
    "D = librosa.amplitude_to_db(np.abs(librosa.stft(y, hop_length=hop_length)),\n",
    "                            ref=np.max)\n",
    "librosa.display.specshow(D, y_axis='log', sr=sr, hop_length=hop_length,\n",
    "                         x_axis='time', ax=ax[2])\n",
    "ax[2].set(title='Log-frequency power spectrogram')\n",
    "ax[2].label_outer()\n",
    "fig.colorbar(img, ax=ax, format=\"%+2.f dB\")\n",
    "\n",
    "\n",
    "import IPython.display as ipd\n",
    "ipd.Audio(entry[\"RawAudio\"], rate=entry[\"SampleRate\"])"
   ]
  },
  {
   "cell_type": "code",
   "execution_count": null,
   "id": "af539fcb",
   "metadata": {},
   "outputs": [],
   "source": []
  }
 ],
 "metadata": {
  "kernelspec": {
   "display_name": "Python 3 (ipykernel)",
   "language": "python",
   "name": "python3"
  },
  "language_info": {
   "codemirror_mode": {
    "name": "ipython",
    "version": 3
   },
   "file_extension": ".py",
   "mimetype": "text/x-python",
   "name": "python",
   "nbconvert_exporter": "python",
   "pygments_lexer": "ipython3",
   "version": "3.7.11"
  }
 },
 "nbformat": 4,
 "nbformat_minor": 5
}
