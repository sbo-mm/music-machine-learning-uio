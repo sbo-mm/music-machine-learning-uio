{
 "cells": [
  {
   "cell_type": "code",
   "execution_count": 1,
   "id": "opening-diploma",
   "metadata": {},
   "outputs": [
    {
     "ename": "ModuleNotFoundError",
     "evalue": "No module named 'pandas'",
     "output_type": "error",
     "traceback": [
      "\u001b[0;31m---------------------------------------------------------------------------\u001b[0m",
      "\u001b[0;31mModuleNotFoundError\u001b[0m                       Traceback (most recent call last)",
      "\u001b[0;32m/var/folders/1q/m24x0rqn2sgdh1nqcg6fby200000gn/T/ipykernel_60164/2625141264.py\u001b[0m in \u001b[0;36m<module>\u001b[0;34m\u001b[0m\n\u001b[1;32m      2\u001b[0m \u001b[0;32mimport\u001b[0m \u001b[0mre\u001b[0m\u001b[0;34m\u001b[0m\u001b[0;34m\u001b[0m\u001b[0m\n\u001b[1;32m      3\u001b[0m \u001b[0;32mimport\u001b[0m \u001b[0mnumpy\u001b[0m \u001b[0;32mas\u001b[0m \u001b[0mnp\u001b[0m\u001b[0;34m\u001b[0m\u001b[0;34m\u001b[0m\u001b[0m\n\u001b[0;32m----> 4\u001b[0;31m \u001b[0;32mimport\u001b[0m \u001b[0mpandas\u001b[0m \u001b[0;32mas\u001b[0m \u001b[0mpd\u001b[0m\u001b[0;34m\u001b[0m\u001b[0;34m\u001b[0m\u001b[0m\n\u001b[0m\u001b[1;32m      5\u001b[0m \u001b[0;34m\u001b[0m\u001b[0m\n\u001b[1;32m      6\u001b[0m \u001b[0;31m# OS I/O\u001b[0m\u001b[0;34m\u001b[0m\u001b[0;34m\u001b[0m\u001b[0;34m\u001b[0m\u001b[0m\n",
      "\u001b[0;31mModuleNotFoundError\u001b[0m: No module named 'pandas'"
     ]
    }
   ],
   "source": [
    "# Utility\n",
    "import re\n",
    "import numpy as np\n",
    "import pandas as pd\n",
    "\n",
    "# OS I/O\n",
    "import requests\n",
    "import inspect\n",
    "import sys\n",
    "import os\n",
    "\n",
    "# Image Processing\n",
    "import cv2\n",
    "\n",
    "# Audio Processing\n",
    "import librosa\n",
    "import librosa.display\n",
    "import scipy\n",
    "\n",
    "# Custom Utils\n",
    "abspathdir = os.path.abspath(inspect.getfile(inspect.currentframe()))\n",
    "currentdir = os.path.dirname(abspathdir)\n",
    "parentdir  = os.path.dirname(currentdir)\n",
    "sys.path.insert(0, parentdir) \n",
    "temp_dir = currentdir + '/tmpdata'\n",
    "db_dir   = currentdir + '/tmpdata'\n",
    "print(temp_dur, db_dir)"
   ]
  },
  {
   "cell_type": "code",
   "execution_count": null,
   "id": "8245eebf",
   "metadata": {},
   "outputs": [],
   "source": [
    "import joblib\n",
    "dbname = \"/mgdb.pkl\"\n",
    "db = joblib.load(db_dir + dbname)\n",
    "audio_db = db[\"Audio\"]\n",
    "video_db = db[\"Video\"]"
   ]
  },
  {
   "cell_type": "code",
   "execution_count": null,
   "id": "6b33228b",
   "metadata": {},
   "outputs": [],
   "source": [
    "video_db_simple = {}\n",
    "for k, v in video_db.items():\n",
    "    new_entry = {}\n",
    "    old_entry = video_db[k]\n",
    "\n",
    "    # Remove a sample if the duration is less than 4 (secs)\n",
    "    duration = int(old_entry[\"Duration\"])\n",
    "    if duration < 4:\n",
    "        continue\n",
    "\n",
    "    new_entry[\"MusicID\"] = old_entry[\"MetaInfo\"][\"MusicID\"]\n",
    "    new_entry[\"DanceGenre\"] = old_entry[\"MetaInfo\"][\"DanceGenre\"]\n",
    "    new_entry[\"MusicEncoding\"] = old_entry[\"MusicEncoding\"]\n",
    "    new_entry[\"MotiongramX\"] = old_entry[\"MotiongramX\"]\n",
    "    new_entry[\"MotiongramY\"] = old_entry[\"MotiongramY\"]\n",
    "\n",
    "    video_db_simple[k] = new_entry\n",
    "\n",
    "audio_db_simple = {}\n",
    "for k, v in audio_db.items():\n",
    "    old_entry = audio_db[k]\n",
    "\n",
    "    # Remove a sample if the duration is less than 4 (secs)\n",
    "    duration = int(old_entry[\"Duration\"])\n",
    "    if duration < 4:\n",
    "        continue    \n",
    "\n",
    "    audio_db_simple[old_entry[\"MusicID\"]] = old_entry[\"RawAudio\"]\n",
    "\n",
    "audio_df = pd.DataFrame(audio_db_simple)\n",
    "video_df = pd.DataFrame(video_db_simple)"
   ]
  },
  {
   "cell_type": "code",
   "execution_count": null,
   "id": "f020734f",
   "metadata": {},
   "outputs": [],
   "source": [
    "# sampling rate\n",
    "sr = 22050\n",
    "\n",
    "# min/max freq \n",
    "fmin, fmax = 20, sr / 2 \n",
    "\n",
    "# number of samples for each fft window. \n",
    "# for music it is recommended 2048, but with 4096 we are getting better results\n",
    "n_fft = 4096\n",
    "\n",
    "#(columns) - so we can get 128 frames \n",
    "hop_length = 690\n",
    "\n",
    "#(rows) - With this, we get nice 128 x 128 spectrograms \n",
    "n_mels = 128"
   ]
  },
  {
   "cell_type": "code",
   "execution_count": null,
   "id": "be67facc",
   "metadata": {},
   "outputs": [],
   "source": [
    "# Extract two motiongrams and corresponding audio\n",
    "video_idx = 300\n",
    "key = list(video_db.keys())[video_idx]\n",
    "\n",
    "entry = video_db_simple[key]\n",
    "print(entry)\n",
    "\n",
    "mgx = entry[\"MotiongramX\"]\n",
    "mgx = cv2.cvtColor(mgx, cv2.COLOR_RGB2GRAY)\n",
    "mgx = cv2.resize(mgx, (n_mels, n_mels))\n",
    "mgx = mgx.astype(np.float32)\n",
    "mgx = np.clip(mgx / 255.0, 0, 1)\n",
    "\n",
    "mgy = entry[\"MotiongramY\"]\n",
    "mgy = cv2.cvtColor(mgy, cv2.COLOR_RGB2GRAY)\n",
    "mgy = cv2.resize(mgy, (n_mels, n_mels))\n",
    "mgy = mgy.astype(np.float32)\n",
    "mgy = np.clip(mgy / 255.0, 0, 1)\n",
    "\n",
    "audio = audio_db_simple[entry[\"MusicID\"]]\n",
    "mel = librosa.feature.melspectrogram(\n",
    "    audio, n_mels=n_mels, sr=sr, \n",
    "    n_fft=n_fft, hop_length=hop_length, \n",
    "    window=scipy.signal.hamming,\n",
    "    fmin=fmin, fmax=fmax\n",
    ")\n",
    "\n",
    "mel = librosa.power_to_db(mel, ref=np.max)\n",
    "mel = 1. + (mel / 80.)"
   ]
  },
  {
   "cell_type": "code",
   "execution_count": null,
   "id": "917167ea",
   "metadata": {},
   "outputs": [],
   "source": [
    "import matplotlib.pyplot as plt\n",
    "\n",
    "fig, axs = plt.subplots(1, 2, figsize=(10, 5))\n",
    "axs[1].set_xticks([])\n",
    "axs[1].set_yticks([])\n",
    "axs[1].imshow(mgx, interpolation = \"bicubic\", cmap = \"binary\", aspect=\"auto\")\n",
    "\n",
    "axs[0].imshow(mgy, interpolation = \"bicubic\", cmap = \"binary\", aspect=\"auto\")\n",
    "axs[0].set_xticks([])\n",
    "axs[0].set_yticks([])\n",
    "plt.show()"
   ]
  },
  {
   "cell_type": "code",
   "execution_count": null,
   "id": "14d60591",
   "metadata": {},
   "outputs": [],
   "source": []
  }
 ],
 "metadata": {
  "kernelspec": {
   "display_name": "Python 3 (ipykernel)",
   "language": "python",
   "name": "python3"
  },
  "language_info": {
   "codemirror_mode": {
    "name": "ipython",
    "version": 3
   },
   "file_extension": ".py",
   "mimetype": "text/x-python",
   "name": "python",
   "nbconvert_exporter": "python",
   "pygments_lexer": "ipython3",
   "version": "3.7.11"
  }
 },
 "nbformat": 4,
 "nbformat_minor": 5
}
